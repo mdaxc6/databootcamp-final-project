{
  "nbformat": 4,
  "nbformat_minor": 0,
  "metadata": {
    "orig_nbformat": 4,
    "colab": {
      "name": "review_model_preperation.ipynb",
      "provenance": [],
      "collapsed_sections": []
    },
    "language_info": {
      "name": "python"
    },
    "kernelspec": {
      "name": "python3",
      "display_name": "Python 3"
    }
  },
  "cells": [
    {
      "cell_type": "code",
      "metadata": {
        "colab": {
          "base_uri": "https://localhost:8080/"
        },
        "id": "Xo9xDe9hbFPc",
        "outputId": "24729542-55c9-4eb9-e641-a051242717a0"
      },
      "source": [
        "import os\n",
        "# Find the latest version of spark 3.0  from http://www-us.apache.org/dist/spark/ and enter as the spark version\n",
        "# For example:\n",
        "spark_version = 'spark-3.0.3'\n",
        "# spark_version = 'spark-3.<enter version>'\n",
        "os.environ['SPARK_VERSION']=spark_version\n",
        "\n",
        "# Install Spark and Java\n",
        "!apt-get update\n",
        "!apt-get install openjdk-11-jdk-headless -qq > /dev/null\n",
        "!wget -q http://www-us.apache.org/dist/spark/$SPARK_VERSION/$SPARK_VERSION-bin-hadoop2.7.tgz\n",
        "!tar xf $SPARK_VERSION-bin-hadoop2.7.tgz\n",
        "!pip install -q findspark\n",
        "\n",
        "# Set Environment Variables\n",
        "os.environ[\"JAVA_HOME\"] = \"/usr/lib/jvm/java-11-openjdk-amd64\"\n",
        "os.environ[\"SPARK_HOME\"] = f\"/content/{spark_version}-bin-hadoop2.7\"\n",
        "\n",
        "# Start a SparkSession\n",
        "import findspark\n",
        "findspark.init()"
      ],
      "execution_count": 1,
      "outputs": [
        {
          "output_type": "stream",
          "text": [
            "\r0% [Working]\r            \rIgn:1 https://developer.download.nvidia.com/compute/cuda/repos/ubuntu1804/x86_64  InRelease\n",
            "\r0% [Connecting to archive.ubuntu.com] [Connecting to security.ubuntu.com] [Wait\r                                                                               \rGet:2 https://cloud.r-project.org/bin/linux/ubuntu bionic-cran40/ InRelease [3,626 B]\n",
            "\r0% [Connecting to archive.ubuntu.com] [Connecting to security.ubuntu.com] [2 In\r0% [Connecting to archive.ubuntu.com] [Connecting to security.ubuntu.com] [Conn\r                                                                               \rIgn:3 https://developer.download.nvidia.com/compute/machine-learning/repos/ubuntu1804/x86_64  InRelease\n",
            "\r0% [Connecting to archive.ubuntu.com] [Connecting to security.ubuntu.com] [Conn\r0% [2 InRelease gpgv 3,626 B] [Connecting to archive.ubuntu.com] [Connecting to\r                                                                               \rGet:4 https://developer.download.nvidia.com/compute/cuda/repos/ubuntu1804/x86_64  Release [697 B]\n",
            "\r0% [2 InRelease gpgv 3,626 B] [Connecting to archive.ubuntu.com] [Connecting to\r0% [2 InRelease gpgv 3,626 B] [Connecting to archive.ubuntu.com] [Connecting to\r                                                                               \rHit:5 https://developer.download.nvidia.com/compute/machine-learning/repos/ubuntu1804/x86_64  Release\n",
            "Get:6 https://developer.download.nvidia.com/compute/cuda/repos/ubuntu1804/x86_64  Release.gpg [836 B]\n",
            "Get:7 http://security.ubuntu.com/ubuntu bionic-security InRelease [88.7 kB]\n",
            "Get:8 http://ppa.launchpad.net/c2d4u.team/c2d4u4.0+/ubuntu bionic InRelease [15.9 kB]\n",
            "Get:9 https://cloud.r-project.org/bin/linux/ubuntu bionic-cran40/ Packages [62.2 kB]\n",
            "Hit:10 http://archive.ubuntu.com/ubuntu bionic InRelease\n",
            "Get:11 http://archive.ubuntu.com/ubuntu bionic-updates InRelease [88.7 kB]\n",
            "Hit:13 http://ppa.launchpad.net/cran/libgit2/ubuntu bionic InRelease\n",
            "Ign:14 https://developer.download.nvidia.com/compute/cuda/repos/ubuntu1804/x86_64  Packages\n",
            "Get:14 https://developer.download.nvidia.com/compute/cuda/repos/ubuntu1804/x86_64  Packages [637 kB]\n",
            "Get:15 http://ppa.launchpad.net/deadsnakes/ppa/ubuntu bionic InRelease [15.9 kB]\n",
            "Get:16 http://archive.ubuntu.com/ubuntu bionic-backports InRelease [74.6 kB]\n",
            "Hit:17 http://ppa.launchpad.net/graphics-drivers/ppa/ubuntu bionic InRelease\n",
            "Get:18 http://security.ubuntu.com/ubuntu bionic-security/main amd64 Packages [2,221 kB]\n",
            "Get:19 http://security.ubuntu.com/ubuntu bionic-security/universe amd64 Packages [1,418 kB]\n",
            "Get:20 http://ppa.launchpad.net/c2d4u.team/c2d4u4.0+/ubuntu bionic/main Sources [1,780 kB]\n",
            "Get:21 http://archive.ubuntu.com/ubuntu bionic-updates/main amd64 Packages [2,658 kB]\n",
            "Get:22 http://ppa.launchpad.net/c2d4u.team/c2d4u4.0+/ubuntu bionic/main amd64 Packages [910 kB]\n",
            "Get:23 http://archive.ubuntu.com/ubuntu bionic-updates/universe amd64 Packages [2,188 kB]\n",
            "Get:24 http://ppa.launchpad.net/deadsnakes/ppa/ubuntu bionic/main amd64 Packages [40.9 kB]\n",
            "Fetched 12.2 MB in 5s (2,451 kB/s)\n",
            "Reading package lists... Done\n"
          ],
          "name": "stdout"
        }
      ]
    },
    {
      "cell_type": "code",
      "metadata": {
        "id": "x6uJIPYqbFPd"
      },
      "source": [
        "# Start Spark session\n",
        "from pyspark.sql import SparkSession\n",
        "spark = SparkSession.builder.appName(\"MovieReviews\").getOrCreate()"
      ],
      "execution_count": 2,
      "outputs": []
    },
    {
      "cell_type": "code",
      "metadata": {
        "colab": {
          "base_uri": "https://localhost:8080/"
        },
        "id": "uW13VnJHbFPe",
        "outputId": "f4144b95-05cd-4da0-c628-9a0536b32f3a"
      },
      "source": [
        "# Read in data from S3 Buckets\n",
        "from pyspark import SparkFiles\n",
        "from pyspark.sql import SQLContext\n",
        "url = \"https://databootcamp-washu-reviews-project.s3.us-east-2.amazonaws.com/IMDB_Dataset.csv\"\n",
        "filename = \"IMDB_Dataset.csv\"\n",
        "# add the file to the spark context\n",
        "spark.sparkContext.addFile(url)\n",
        "# use sql context to add more options when reading csv\n",
        "sqlContext = SQLContext(spark)\n",
        "df = sqlContext.read.format('csv').option('header','true').option('maxColumns','2').option('escape','\"').load(SparkFiles.get(filename))\n",
        "# Show DataFrame\n",
        "df.show()"
      ],
      "execution_count": 8,
      "outputs": [
        {
          "output_type": "stream",
          "text": [
            "+--------------------+---------+\n",
            "|              review|sentiment|\n",
            "+--------------------+---------+\n",
            "|One of the other ...| positive|\n",
            "|A wonderful littl...| positive|\n",
            "|I thought this wa...| positive|\n",
            "|Basically there's...| negative|\n",
            "|Petter Mattei's \"...| positive|\n",
            "|Probably my all-t...| positive|\n",
            "|I sure would like...| positive|\n",
            "|This show was an ...| negative|\n",
            "|Encouraged by the...| negative|\n",
            "|If you like origi...| positive|\n",
            "|Phil the Alien is...| negative|\n",
            "|I saw this movie ...| negative|\n",
            "|So im not a big f...| negative|\n",
            "|The cast played S...| negative|\n",
            "|This a fantastic ...| positive|\n",
            "|Kind of drawn in ...| negative|\n",
            "|Some films just s...| positive|\n",
            "|This movie made i...| negative|\n",
            "|I remember this f...| positive|\n",
            "|An awful film! It...| negative|\n",
            "+--------------------+---------+\n",
            "only showing top 20 rows\n",
            "\n"
          ],
          "name": "stdout"
        }
      ]
    },
    {
      "cell_type": "code",
      "metadata": {
        "colab": {
          "base_uri": "https://localhost:8080/"
        },
        "id": "cwIAhAoIbnbO",
        "outputId": "8b8bf564-c0b5-43a9-9c01-cced2c9310aa"
      },
      "source": [
        "from pyspark.sql.functions import length\n",
        "# Create a length column to be used as a future feature \n",
        "df = df.withColumn('length', length(df['review']))\n",
        "df.show()"
      ],
      "execution_count": 10,
      "outputs": [
        {
          "output_type": "stream",
          "text": [
            "+--------------------+---------+------+\n",
            "|              review|sentiment|length|\n",
            "+--------------------+---------+------+\n",
            "|One of the other ...| positive|  1761|\n",
            "|A wonderful littl...| positive|   998|\n",
            "|I thought this wa...| positive|   926|\n",
            "|Basically there's...| negative|   748|\n",
            "|Petter Mattei's \"...| positive|  1317|\n",
            "|Probably my all-t...| positive|   656|\n",
            "|I sure would like...| positive|   726|\n",
            "|This show was an ...| negative|   934|\n",
            "|Encouraged by the...| negative|   681|\n",
            "|If you like origi...| positive|   176|\n",
            "|Phil the Alien is...| negative|   578|\n",
            "|I saw this movie ...| negative|   937|\n",
            "|So im not a big f...| negative|  2227|\n",
            "|The cast played S...| negative|   662|\n",
            "|This a fantastic ...| positive|   275|\n",
            "|Kind of drawn in ...| negative|   830|\n",
            "|Some films just s...| positive|   720|\n",
            "|This movie made i...| negative|  1322|\n",
            "|I remember this f...| positive|   639|\n",
            "|An awful film! It...| negative|   741|\n",
            "+--------------------+---------+------+\n",
            "only showing top 20 rows\n",
            "\n"
          ],
          "name": "stdout"
        }
      ]
    },
    {
      "cell_type": "code",
      "metadata": {
        "id": "vns3GUwCy7R4"
      },
      "source": [
        "from pyspark.ml.feature import Tokenizer, StopWordsRemover, HashingTF, IDF, StringIndexer\n",
        "# Create all the features to the data set\n",
        "\n",
        "# adds column to represent sentiment numarically, 1 = positive, 0 = negative\n",
        "pos_neg_to_num = StringIndexer(inputCol='sentiment', outputCol='label')\n",
        "# breaks each review into its individual words\n",
        "tokenizer = Tokenizer(inputCol=\"review\", outputCol=\"token_text\")\n",
        "# removes stop words using deafault list\n",
        "stopremove = StopWordsRemover(inputCol='token_text', outputCol='stop_removed_tokens')\n",
        "# calculates the frequency of words in each reiview \n",
        "hashingTF = HashingTF(inputCol=\"stop_removed_tokens\", outputCol='hash_token')\n",
        "# calculates the frequency of words accross whole set\n",
        "idf = IDF(inputCol='hash_token', outputCol='idf_token')\n",
        "\n",
        "# TF-IDF is a statistical measure that evaluates how relevant a word is to a document in a collection of documents. \n",
        "# This is done by multiplying two metrics: how many times a word appears in a document(hashingTF), and the inverse document frequency of the word across a set of documents(idf)."
      ],
      "execution_count": 11,
      "outputs": []
    },
    {
      "cell_type": "code",
      "metadata": {
        "id": "btthNjRw7Blb"
      },
      "source": [
        "from pyspark.ml.feature import VectorAssembler\n",
        "from pyspark.ml.linalg import Vector\n",
        "\n",
        "# Create feature vectors, combining the columns into one feature vector\n",
        "vectorized = VectorAssembler(inputCols=['idf_token', 'length'], outputCol='features')"
      ],
      "execution_count": 12,
      "outputs": []
    },
    {
      "cell_type": "code",
      "metadata": {
        "id": "m1a3d4VO8PL6"
      },
      "source": [
        "# Create a and run a data processing Pipeline\n",
        "from pyspark.ml import Pipeline\n",
        "data_prep_pipeline = Pipeline(stages=[pos_neg_to_num, tokenizer, stopremove, hashingTF, idf, vectorized])"
      ],
      "execution_count": 13,
      "outputs": []
    },
    {
      "cell_type": "code",
      "metadata": {
        "id": "dqZqH_0-8Xw_"
      },
      "source": [
        "# fit the data to the pipline, then transform the data\n",
        "data_cleaner = data_prep_pipeline.fit(df)\n",
        "cleaned_df = data_cleaner.transform(df)"
      ],
      "execution_count": 14,
      "outputs": []
    },
    {
      "cell_type": "code",
      "metadata": {
        "colab": {
          "base_uri": "https://localhost:8080/"
        },
        "id": "SQpToBOd83Rw",
        "outputId": "1b3595e3-5fac-435d-87c8-da4dd5cf5898"
      },
      "source": [
        "# Show label and resulting features\n",
        "cleaned_df.select(['label', 'features']).show()"
      ],
      "execution_count": 17,
      "outputs": [
        {
          "output_type": "stream",
          "text": [
            "+-----+--------------------+\n",
            "|label|            features|\n",
            "+-----+--------------------+\n",
            "|  1.0|(262145,[3280,436...|\n",
            "|  1.0|(262145,[120,521,...|\n",
            "|  1.0|(262145,[1043,139...|\n",
            "|  0.0|(262145,[6512,853...|\n",
            "|  1.0|(262145,[2751,392...|\n",
            "|  1.0|(262145,[5381,158...|\n",
            "|  1.0|(262145,[1889,545...|\n",
            "|  0.0|(262145,[2437,825...|\n",
            "|  0.0|(262145,[8538,149...|\n",
            "|  1.0|(262145,[25629,31...|\n",
            "|  0.0|(262145,[1326,172...|\n",
            "|  0.0|(262145,[5451,702...|\n",
            "|  0.0|(262145,[3493,427...|\n",
            "|  0.0|(262145,[5670,761...|\n",
            "|  1.0|(262145,[6558,215...|\n",
            "|  0.0|(262145,[2101,243...|\n",
            "|  1.0|(262145,[2701,161...|\n",
            "|  0.0|(262145,[329,3535...|\n",
            "|  1.0|(262145,[1009,378...|\n",
            "|  0.0|(262145,[3924,156...|\n",
            "+-----+--------------------+\n",
            "only showing top 20 rows\n",
            "\n"
          ],
          "name": "stdout"
        }
      ]
    },
    {
      "cell_type": "code",
      "metadata": {
        "id": "oTADaHF-88-Q"
      },
      "source": [
        "from pyspark.ml.classification import NaiveBayes\n",
        "\n",
        "# split the data up into training, and testing sets\n",
        "training, testing = cleaned_df.randomSplit([0.75, 0.25])\n",
        "\n",
        "# Create a Naive Bayes model and fit training data\n",
        "nb = NaiveBayes()\n",
        "predictor = nb.fit(training)"
      ],
      "execution_count": 18,
      "outputs": []
    },
    {
      "cell_type": "code",
      "metadata": {
        "colab": {
          "base_uri": "https://localhost:8080/"
        },
        "id": "0hezVskO9s36",
        "outputId": "dda297fe-0555-4227-b0a9-c35de6ee9483"
      },
      "source": [
        "# Tranform the model with the testing data\n",
        "test_results = predictor.transform(testing)\n",
        "test_results.show(5)"
      ],
      "execution_count": 19,
      "outputs": [
        {
          "output_type": "stream",
          "text": [
            "+--------------------+---------+------+-----+--------------------+--------------------+--------------------+--------------------+--------------------+--------------------+--------------------+----------+\n",
            "|              review|sentiment|length|label|          token_text| stop_removed_tokens|          hash_token|           idf_token|            features|       rawPrediction|         probability|prediction|\n",
            "+--------------------+---------+------+-----+--------------------+--------------------+--------------------+--------------------+--------------------+--------------------+--------------------+----------+\n",
            "|!!!! POSSIBLE MIL...| negative|   791|  0.0|[!!!!, possible, ...|[!!!!, possible, ...|(262144,[6512,142...|(262144,[6512,142...|(262145,[6512,142...|[-4505.8785988956...|[0.99999999999999...|       0.0|\n",
            "|\"A Gentleman's Ga...| negative|  1220|  0.0|[\"a, gentleman's,...|[\"a, gentleman's,...|(262144,[991,5760...|(262144,[991,5760...|(262145,[991,5760...|[-6025.9654839835...|[0.99999999997483...|       0.0|\n",
            "|\"A lot of the fil...| negative|  4679|  0.0|[\"a, lot, of, the...|[\"a, lot, films, ...|(262144,[1578,219...|(262144,[1578,219...|(262145,[1578,219...|[-29369.241921469...|[1.0,1.1361386623...|       0.0|\n",
            "|\"A research scien...| negative|  2135|  0.0|[\"a, research, sc...|[\"a, research, sc...|(262144,[2325,297...|(262144,[2325,297...|(262145,[2325,297...|[-14870.321944670...|[1.0,8.6842877681...|       0.0|\n",
            "|\"Americans Next T...| positive|   712|  1.0|[\"americans, next...|[\"americans, next...|(262144,[2701,350...|(262144,[2701,350...|(262145,[2701,350...|[-3943.8027219700...|[1.51752287957629...|       1.0|\n",
            "+--------------------+---------+------+-----+--------------------+--------------------+--------------------+--------------------+--------------------+--------------------+--------------------+----------+\n",
            "only showing top 5 rows\n",
            "\n"
          ],
          "name": "stdout"
        }
      ]
    },
    {
      "cell_type": "code",
      "metadata": {
        "colab": {
          "base_uri": "https://localhost:8080/"
        },
        "id": "1omGMTDS9iIr",
        "outputId": "bce6113f-51b4-4f9d-fa14-7cea6c7da79c"
      },
      "source": [
        "# Use the Class Evaluator for a cleaner description\n",
        "from pyspark.ml.evaluation import MulticlassClassificationEvaluator\n",
        "\n",
        "acc_eval = MulticlassClassificationEvaluator()\n",
        "acc = acc_eval.evaluate(test_results)\n",
        "print(\"Accuracy of model at predicting reviews was: %f\" % acc)"
      ],
      "execution_count": 20,
      "outputs": [
        {
          "output_type": "stream",
          "text": [
            "Accuracy of model at predicting reviews was: 0.821284\n"
          ],
          "name": "stdout"
        }
      ]
    },
    {
      "cell_type": "code",
      "metadata": {
        "id": "Vvix6Wg9_N7Y"
      },
      "source": [
        ""
      ],
      "execution_count": null,
      "outputs": []
    }
  ]
}